{
 "cells": [
  {
   "cell_type": "markdown",
   "id": "85b09c2c",
   "metadata": {},
   "source": [
    "**PULLING DATA FROM PUBLIC API's - GET REQUEST**"
   ]
  },
  {
   "cell_type": "code",
   "execution_count": 1,
   "id": "f66da8dd",
   "metadata": {},
   "outputs": [],
   "source": [
    "base_url = 'https://open.er-api.com/v6/latest/USD'"
   ]
  },
  {
   "cell_type": "markdown",
   "id": "8028b38a",
   "metadata": {},
   "source": [
    "**EXTRACTING DATA ON CURRENCY EXCHANGE RATES**\n",
    "\n",
    "**Sending a get request**"
   ]
  },
  {
   "cell_type": "code",
   "execution_count": 2,
   "id": "2e4ea43e",
   "metadata": {},
   "outputs": [],
   "source": [
    "# By improting the requests package, we have access to its get method.\n",
    "#The '.get()' method submits a GET request to the indicated URL, AND returns response from the server.\n",
    "\n",
    "import requests"
   ]
  },
  {
   "cell_type": "code",
   "execution_count": 3,
   "id": "69fa221f",
   "metadata": {},
   "outputs": [],
   "source": [
    "# We stored it in a variable because we need the reponse to this request for future processing\n",
    "\n",
    "response = requests.get(base_url)"
   ]
  },
  {
   "cell_type": "markdown",
   "id": "8c3e7ee1",
   "metadata": {},
   "source": [
    "**INVESTIGATING THE RESPONSE**"
   ]
  },
  {
   "cell_type": "code",
   "execution_count": 4,
   "id": "159bbaaf",
   "metadata": {},
   "outputs": [
    {
     "data": {
      "text/plain": [
       "True"
      ]
     },
     "execution_count": 4,
     "metadata": {},
     "output_type": "execute_result"
    }
   ],
   "source": [
    "# We use the ok attribute to check if the response went through without any problems.\n",
    "\n",
    "response.ok"
   ]
  },
  {
   "cell_type": "code",
   "execution_count": 5,
   "id": "2d809293",
   "metadata": {},
   "outputs": [
    {
     "data": {
      "text/plain": [
       "200"
      ]
     },
     "execution_count": 5,
     "metadata": {},
     "output_type": "execute_result"
    }
   ],
   "source": [
    "# We can also access the status code directly\n",
    "\n",
    "response.status_code"
   ]
  },
  {
   "cell_type": "code",
   "execution_count": 6,
   "id": "eca84512",
   "metadata": {},
   "outputs": [
    {
     "data": {
      "text/plain": [
       "'{\"result\":\"success\",\"provider\":\"https://www.exchangerate-api.com\",\"documentation\":\"https://www.exchangerate-api.com/docs/free\",\"terms_of_use\":\"https://www.exchangerate-api.com/terms\",\"time_last_update_unix\":1645574552,\"time_last_update_utc\":\"Wed, 23 Feb 2022 00:02:32 +0000\",\"time_next_update_unix\":1645662702,\"time_next_update_utc\":\"Thu, 24 Feb 2022 00:31:42 +0000\",\"time_eol_unix\":0,\"base_code\":\"USD\",\"rates\":{\"USD\":1,\"AED\":3.67,\"AFN\":92,\"ALL\":106.85,\"AMD\":478.45,\"ANG\":1.79,\"AOA\":503.88,\"ARS\":106.98,\"AUD\":1.39,\"AWG\":1.79,\"AZN\":1.7,\"BAM\":1.73,\"BBD\":2,\"BDT\":85.99,\"BGN\":1.73,\"BHD\":0.376,\"BIF\":1998.47,\"BMD\":1,\"BND\":1.35,\"BOB\":6.87,\"BRL\":5.08,\"BSD\":1,\"BTN\":74.66,\"BWP\":11.53,\"BYN\":2.62,\"BZD\":2,\"CAD\":1.27,\"CDF\":2016.16,\"CHF\":0.92,\"CLP\":798.16,\"CNY\":6.33,\"COP\":3953.7,\"CRC\":639.36,\"CUP\":24,\"CVE\":97.29,\"CZK\":21.67,\"DJF\":177.72,\"DKK\":6.58,\"DOP\":56.49,\"DZD\":140.63,\"EGP\":15.7,\"ERN\":15,\"ETB\":50.8,\"EUR\":0.882,\"FJD\":2.12,\"FKP\":0.737,\"FOK\":6.58,\"GBP\":0.737,\"GEL\":3,\"GGP\":0.737,\"GHS\":7.15,\"GIP\":0.737,\"GMD\":53.48,\"GNF\":9034.88,\"GTQ\":7.7,\"GYD\":209.94,\"HKD\":7.8,\"HNL\":24.55,\"HRK\":6.65,\"HTG\":102.55,\"HUF\":315.1,\"IDR\":14271.69,\"ILS\":3.24,\"IMP\":0.737,\"INR\":74.66,\"IQD\":1464.57,\"IRR\":41968.38,\"ISK\":124.83,\"JEP\":0.737,\"JMD\":155.77,\"JOD\":0.709,\"JPY\":115.01,\"KES\":113.99,\"KGS\":84.68,\"KHR\":4079.67,\"KID\":1.39,\"KMF\":434.07,\"KRW\":1192.98,\"KWD\":0.3,\"KYD\":0.833,\"KZT\":434.68,\"LAK\":11418.43,\"LBP\":1507.5,\"LKR\":201.91,\"LRD\":153.69,\"LSL\":15.08,\"LYD\":4.61,\"MAD\":9.34,\"MDL\":17.92,\"MGA\":3037.2,\"MKD\":54.41,\"MMK\":1777.19,\"MNT\":2884.31,\"MOP\":8.04,\"MRU\":36.47,\"MUR\":43.85,\"MVR\":15.39,\"MWK\":820.36,\"MXN\":20.31,\"MYR\":4.18,\"MZN\":63.82,\"NAD\":15.08,\"NGN\":417.15,\"NIO\":35.56,\"NOK\":8.9,\"NPR\":119.46,\"NZD\":1.48,\"OMR\":0.384,\"PAB\":1,\"PEN\":3.75,\"PGK\":3.5,\"PHP\":51.37,\"PKR\":176.07,\"PLN\":4.01,\"PYG\":6838.44,\"QAR\":3.64,\"RON\":4.36,\"RSD\":103.68,\"RUB\":79.35,\"RWF\":1048.41,\"SAR\":3.75,\"SBD\":8.03,\"SCR\":13.08,\"SDG\":447.02,\"SEK\":9.35,\"SGD\":1.35,\"SHP\":0.737,\"SLL\":11537.25,\"SOS\":580.5,\"SRD\":20.53,\"SSP\":430.31,\"STN\":21.62,\"SYP\":2512.39,\"SZL\":15.08,\"THB\":32.42,\"TJS\":11.27,\"TMT\":3.5,\"TND\":2.81,\"TOP\":2.25,\"TRY\":13.79,\"TTD\":6.76,\"TVD\":1.39,\"TWD\":27.84,\"TZS\":2305.93,\"UAH\":28.88,\"UGX\":3519.9,\"UYU\":43.04,\"UZS\":10873.4,\"VES\":4.37,\"VND\":22748.42,\"VUV\":112.49,\"WST\":2.58,\"XAF\":578.77,\"XCD\":2.7,\"XDR\":0.714,\"XOF\":578.77,\"XPF\":105.29,\"YER\":249.82,\"ZAR\":15.08,\"ZMW\":17.59,\"ZWL\":120.51}}'"
      ]
     },
     "execution_count": 6,
     "metadata": {},
     "output_type": "execute_result"
    }
   ],
   "source": [
    "# To access the data contained in the response\n",
    "\n",
    "response.text"
   ]
  },
  {
   "cell_type": "code",
   "execution_count": 7,
   "id": "131631b5",
   "metadata": {
    "scrolled": true
   },
   "outputs": [
    {
     "data": {
      "text/plain": [
       "b'{\"result\":\"success\",\"provider\":\"https://www.exchangerate-api.com\",\"documentation\":\"https://www.exchangerate-api.com/docs/free\",\"terms_of_use\":\"https://www.exchangerate-api.com/terms\",\"time_last_update_unix\":1645574552,\"time_last_update_utc\":\"Wed, 23 Feb 2022 00:02:32 +0000\",\"time_next_update_unix\":1645662702,\"time_next_update_utc\":\"Thu, 24 Feb 2022 00:31:42 +0000\",\"time_eol_unix\":0,\"base_code\":\"USD\",\"rates\":{\"USD\":1,\"AED\":3.67,\"AFN\":92,\"ALL\":106.85,\"AMD\":478.45,\"ANG\":1.79,\"AOA\":503.88,\"ARS\":106.98,\"AUD\":1.39,\"AWG\":1.79,\"AZN\":1.7,\"BAM\":1.73,\"BBD\":2,\"BDT\":85.99,\"BGN\":1.73,\"BHD\":0.376,\"BIF\":1998.47,\"BMD\":1,\"BND\":1.35,\"BOB\":6.87,\"BRL\":5.08,\"BSD\":1,\"BTN\":74.66,\"BWP\":11.53,\"BYN\":2.62,\"BZD\":2,\"CAD\":1.27,\"CDF\":2016.16,\"CHF\":0.92,\"CLP\":798.16,\"CNY\":6.33,\"COP\":3953.7,\"CRC\":639.36,\"CUP\":24,\"CVE\":97.29,\"CZK\":21.67,\"DJF\":177.72,\"DKK\":6.58,\"DOP\":56.49,\"DZD\":140.63,\"EGP\":15.7,\"ERN\":15,\"ETB\":50.8,\"EUR\":0.882,\"FJD\":2.12,\"FKP\":0.737,\"FOK\":6.58,\"GBP\":0.737,\"GEL\":3,\"GGP\":0.737,\"GHS\":7.15,\"GIP\":0.737,\"GMD\":53.48,\"GNF\":9034.88,\"GTQ\":7.7,\"GYD\":209.94,\"HKD\":7.8,\"HNL\":24.55,\"HRK\":6.65,\"HTG\":102.55,\"HUF\":315.1,\"IDR\":14271.69,\"ILS\":3.24,\"IMP\":0.737,\"INR\":74.66,\"IQD\":1464.57,\"IRR\":41968.38,\"ISK\":124.83,\"JEP\":0.737,\"JMD\":155.77,\"JOD\":0.709,\"JPY\":115.01,\"KES\":113.99,\"KGS\":84.68,\"KHR\":4079.67,\"KID\":1.39,\"KMF\":434.07,\"KRW\":1192.98,\"KWD\":0.3,\"KYD\":0.833,\"KZT\":434.68,\"LAK\":11418.43,\"LBP\":1507.5,\"LKR\":201.91,\"LRD\":153.69,\"LSL\":15.08,\"LYD\":4.61,\"MAD\":9.34,\"MDL\":17.92,\"MGA\":3037.2,\"MKD\":54.41,\"MMK\":1777.19,\"MNT\":2884.31,\"MOP\":8.04,\"MRU\":36.47,\"MUR\":43.85,\"MVR\":15.39,\"MWK\":820.36,\"MXN\":20.31,\"MYR\":4.18,\"MZN\":63.82,\"NAD\":15.08,\"NGN\":417.15,\"NIO\":35.56,\"NOK\":8.9,\"NPR\":119.46,\"NZD\":1.48,\"OMR\":0.384,\"PAB\":1,\"PEN\":3.75,\"PGK\":3.5,\"PHP\":51.37,\"PKR\":176.07,\"PLN\":4.01,\"PYG\":6838.44,\"QAR\":3.64,\"RON\":4.36,\"RSD\":103.68,\"RUB\":79.35,\"RWF\":1048.41,\"SAR\":3.75,\"SBD\":8.03,\"SCR\":13.08,\"SDG\":447.02,\"SEK\":9.35,\"SGD\":1.35,\"SHP\":0.737,\"SLL\":11537.25,\"SOS\":580.5,\"SRD\":20.53,\"SSP\":430.31,\"STN\":21.62,\"SYP\":2512.39,\"SZL\":15.08,\"THB\":32.42,\"TJS\":11.27,\"TMT\":3.5,\"TND\":2.81,\"TOP\":2.25,\"TRY\":13.79,\"TTD\":6.76,\"TVD\":1.39,\"TWD\":27.84,\"TZS\":2305.93,\"UAH\":28.88,\"UGX\":3519.9,\"UYU\":43.04,\"UZS\":10873.4,\"VES\":4.37,\"VND\":22748.42,\"VUV\":112.49,\"WST\":2.58,\"XAF\":578.77,\"XCD\":2.7,\"XDR\":0.714,\"XOF\":578.77,\"XPF\":105.29,\"YER\":249.82,\"ZAR\":15.08,\"ZMW\":17.59,\"ZWL\":120.51}}'"
      ]
     },
     "execution_count": 7,
     "metadata": {},
     "output_type": "execute_result"
    }
   ],
   "source": [
    "# To return it in bytes format\n",
    "\n",
    "response.content"
   ]
  },
  {
   "cell_type": "markdown",
   "id": "e15c7ba2",
   "metadata": {},
   "source": [
    "**Handing the JSON**\n",
    "\n",
    "- This data is in JSON format, which consists of dictionaries and lists.\n",
    "\n",
    "- It would be useful if instead of a string, we could represent it in a native pyhton object."
   ]
  },
  {
   "cell_type": "code",
   "execution_count": 9,
   "id": "3dc96ed0",
   "metadata": {},
   "outputs": [
    {
     "data": {
      "text/plain": [
       "{'result': 'success',\n",
       " 'provider': 'https://www.exchangerate-api.com',\n",
       " 'documentation': 'https://www.exchangerate-api.com/docs/free',\n",
       " 'terms_of_use': 'https://www.exchangerate-api.com/terms',\n",
       " 'time_last_update_unix': 1645574552,\n",
       " 'time_last_update_utc': 'Wed, 23 Feb 2022 00:02:32 +0000',\n",
       " 'time_next_update_unix': 1645662702,\n",
       " 'time_next_update_utc': 'Thu, 24 Feb 2022 00:31:42 +0000',\n",
       " 'time_eol_unix': 0,\n",
       " 'base_code': 'USD',\n",
       " 'rates': {'USD': 1,\n",
       "  'AED': 3.67,\n",
       "  'AFN': 92,\n",
       "  'ALL': 106.85,\n",
       "  'AMD': 478.45,\n",
       "  'ANG': 1.79,\n",
       "  'AOA': 503.88,\n",
       "  'ARS': 106.98,\n",
       "  'AUD': 1.39,\n",
       "  'AWG': 1.79,\n",
       "  'AZN': 1.7,\n",
       "  'BAM': 1.73,\n",
       "  'BBD': 2,\n",
       "  'BDT': 85.99,\n",
       "  'BGN': 1.73,\n",
       "  'BHD': 0.376,\n",
       "  'BIF': 1998.47,\n",
       "  'BMD': 1,\n",
       "  'BND': 1.35,\n",
       "  'BOB': 6.87,\n",
       "  'BRL': 5.08,\n",
       "  'BSD': 1,\n",
       "  'BTN': 74.66,\n",
       "  'BWP': 11.53,\n",
       "  'BYN': 2.62,\n",
       "  'BZD': 2,\n",
       "  'CAD': 1.27,\n",
       "  'CDF': 2016.16,\n",
       "  'CHF': 0.92,\n",
       "  'CLP': 798.16,\n",
       "  'CNY': 6.33,\n",
       "  'COP': 3953.7,\n",
       "  'CRC': 639.36,\n",
       "  'CUP': 24,\n",
       "  'CVE': 97.29,\n",
       "  'CZK': 21.67,\n",
       "  'DJF': 177.72,\n",
       "  'DKK': 6.58,\n",
       "  'DOP': 56.49,\n",
       "  'DZD': 140.63,\n",
       "  'EGP': 15.7,\n",
       "  'ERN': 15,\n",
       "  'ETB': 50.8,\n",
       "  'EUR': 0.882,\n",
       "  'FJD': 2.12,\n",
       "  'FKP': 0.737,\n",
       "  'FOK': 6.58,\n",
       "  'GBP': 0.737,\n",
       "  'GEL': 3,\n",
       "  'GGP': 0.737,\n",
       "  'GHS': 7.15,\n",
       "  'GIP': 0.737,\n",
       "  'GMD': 53.48,\n",
       "  'GNF': 9034.88,\n",
       "  'GTQ': 7.7,\n",
       "  'GYD': 209.94,\n",
       "  'HKD': 7.8,\n",
       "  'HNL': 24.55,\n",
       "  'HRK': 6.65,\n",
       "  'HTG': 102.55,\n",
       "  'HUF': 315.1,\n",
       "  'IDR': 14271.69,\n",
       "  'ILS': 3.24,\n",
       "  'IMP': 0.737,\n",
       "  'INR': 74.66,\n",
       "  'IQD': 1464.57,\n",
       "  'IRR': 41968.38,\n",
       "  'ISK': 124.83,\n",
       "  'JEP': 0.737,\n",
       "  'JMD': 155.77,\n",
       "  'JOD': 0.709,\n",
       "  'JPY': 115.01,\n",
       "  'KES': 113.99,\n",
       "  'KGS': 84.68,\n",
       "  'KHR': 4079.67,\n",
       "  'KID': 1.39,\n",
       "  'KMF': 434.07,\n",
       "  'KRW': 1192.98,\n",
       "  'KWD': 0.3,\n",
       "  'KYD': 0.833,\n",
       "  'KZT': 434.68,\n",
       "  'LAK': 11418.43,\n",
       "  'LBP': 1507.5,\n",
       "  'LKR': 201.91,\n",
       "  'LRD': 153.69,\n",
       "  'LSL': 15.08,\n",
       "  'LYD': 4.61,\n",
       "  'MAD': 9.34,\n",
       "  'MDL': 17.92,\n",
       "  'MGA': 3037.2,\n",
       "  'MKD': 54.41,\n",
       "  'MMK': 1777.19,\n",
       "  'MNT': 2884.31,\n",
       "  'MOP': 8.04,\n",
       "  'MRU': 36.47,\n",
       "  'MUR': 43.85,\n",
       "  'MVR': 15.39,\n",
       "  'MWK': 820.36,\n",
       "  'MXN': 20.31,\n",
       "  'MYR': 4.18,\n",
       "  'MZN': 63.82,\n",
       "  'NAD': 15.08,\n",
       "  'NGN': 417.15,\n",
       "  'NIO': 35.56,\n",
       "  'NOK': 8.9,\n",
       "  'NPR': 119.46,\n",
       "  'NZD': 1.48,\n",
       "  'OMR': 0.384,\n",
       "  'PAB': 1,\n",
       "  'PEN': 3.75,\n",
       "  'PGK': 3.5,\n",
       "  'PHP': 51.37,\n",
       "  'PKR': 176.07,\n",
       "  'PLN': 4.01,\n",
       "  'PYG': 6838.44,\n",
       "  'QAR': 3.64,\n",
       "  'RON': 4.36,\n",
       "  'RSD': 103.68,\n",
       "  'RUB': 79.35,\n",
       "  'RWF': 1048.41,\n",
       "  'SAR': 3.75,\n",
       "  'SBD': 8.03,\n",
       "  'SCR': 13.08,\n",
       "  'SDG': 447.02,\n",
       "  'SEK': 9.35,\n",
       "  'SGD': 1.35,\n",
       "  'SHP': 0.737,\n",
       "  'SLL': 11537.25,\n",
       "  'SOS': 580.5,\n",
       "  'SRD': 20.53,\n",
       "  'SSP': 430.31,\n",
       "  'STN': 21.62,\n",
       "  'SYP': 2512.39,\n",
       "  'SZL': 15.08,\n",
       "  'THB': 32.42,\n",
       "  'TJS': 11.27,\n",
       "  'TMT': 3.5,\n",
       "  'TND': 2.81,\n",
       "  'TOP': 2.25,\n",
       "  'TRY': 13.79,\n",
       "  'TTD': 6.76,\n",
       "  'TVD': 1.39,\n",
       "  'TWD': 27.84,\n",
       "  'TZS': 2305.93,\n",
       "  'UAH': 28.88,\n",
       "  'UGX': 3519.9,\n",
       "  'UYU': 43.04,\n",
       "  'UZS': 10873.4,\n",
       "  'VES': 4.37,\n",
       "  'VND': 22748.42,\n",
       "  'VUV': 112.49,\n",
       "  'WST': 2.58,\n",
       "  'XAF': 578.77,\n",
       "  'XCD': 2.7,\n",
       "  'XDR': 0.714,\n",
       "  'XOF': 578.77,\n",
       "  'XPF': 105.29,\n",
       "  'YER': 249.82,\n",
       "  'ZAR': 15.08,\n",
       "  'ZMW': 17.59,\n",
       "  'ZWL': 120.51}}"
      ]
     },
     "execution_count": 9,
     "metadata": {},
     "output_type": "execute_result"
    }
   ],
   "source": [
    "response.json()"
   ]
  },
  {
   "cell_type": "code",
   "execution_count": 13,
   "id": "e71caab4",
   "metadata": {},
   "outputs": [
    {
     "data": {
      "text/plain": [
       "dict"
      ]
     },
     "execution_count": 13,
     "metadata": {},
     "output_type": "execute_result"
    }
   ],
   "source": [
    "# confirm the transformation with the type function\n",
    "# We can see that it has been converted to a python dictionary\n",
    "\n",
    "type(response.json())"
   ]
  },
  {
   "cell_type": "code",
   "execution_count": 8,
   "id": "3582970d",
   "metadata": {},
   "outputs": [],
   "source": [
    "import json"
   ]
  },
  {
   "cell_type": "code",
   "execution_count": 10,
   "id": "47de27da",
   "metadata": {},
   "outputs": [
    {
     "data": {
      "text/plain": [
       "'{\\n    \"result\": \"success\",\\n    \"provider\": \"https://www.exchangerate-api.com\",\\n    \"documentation\": \"https://www.exchangerate-api.com/docs/free\",\\n    \"terms_of_use\": \"https://www.exchangerate-api.com/terms\",\\n    \"time_last_update_unix\": 1645574552,\\n    \"time_last_update_utc\": \"Wed, 23 Feb 2022 00:02:32 +0000\",\\n    \"time_next_update_unix\": 1645662702,\\n    \"time_next_update_utc\": \"Thu, 24 Feb 2022 00:31:42 +0000\",\\n    \"time_eol_unix\": 0,\\n    \"base_code\": \"USD\",\\n    \"rates\": {\\n        \"USD\": 1,\\n        \"AED\": 3.67,\\n        \"AFN\": 92,\\n        \"ALL\": 106.85,\\n        \"AMD\": 478.45,\\n        \"ANG\": 1.79,\\n        \"AOA\": 503.88,\\n        \"ARS\": 106.98,\\n        \"AUD\": 1.39,\\n        \"AWG\": 1.79,\\n        \"AZN\": 1.7,\\n        \"BAM\": 1.73,\\n        \"BBD\": 2,\\n        \"BDT\": 85.99,\\n        \"BGN\": 1.73,\\n        \"BHD\": 0.376,\\n        \"BIF\": 1998.47,\\n        \"BMD\": 1,\\n        \"BND\": 1.35,\\n        \"BOB\": 6.87,\\n        \"BRL\": 5.08,\\n        \"BSD\": 1,\\n        \"BTN\": 74.66,\\n        \"BWP\": 11.53,\\n        \"BYN\": 2.62,\\n        \"BZD\": 2,\\n        \"CAD\": 1.27,\\n        \"CDF\": 2016.16,\\n        \"CHF\": 0.92,\\n        \"CLP\": 798.16,\\n        \"CNY\": 6.33,\\n        \"COP\": 3953.7,\\n        \"CRC\": 639.36,\\n        \"CUP\": 24,\\n        \"CVE\": 97.29,\\n        \"CZK\": 21.67,\\n        \"DJF\": 177.72,\\n        \"DKK\": 6.58,\\n        \"DOP\": 56.49,\\n        \"DZD\": 140.63,\\n        \"EGP\": 15.7,\\n        \"ERN\": 15,\\n        \"ETB\": 50.8,\\n        \"EUR\": 0.882,\\n        \"FJD\": 2.12,\\n        \"FKP\": 0.737,\\n        \"FOK\": 6.58,\\n        \"GBP\": 0.737,\\n        \"GEL\": 3,\\n        \"GGP\": 0.737,\\n        \"GHS\": 7.15,\\n        \"GIP\": 0.737,\\n        \"GMD\": 53.48,\\n        \"GNF\": 9034.88,\\n        \"GTQ\": 7.7,\\n        \"GYD\": 209.94,\\n        \"HKD\": 7.8,\\n        \"HNL\": 24.55,\\n        \"HRK\": 6.65,\\n        \"HTG\": 102.55,\\n        \"HUF\": 315.1,\\n        \"IDR\": 14271.69,\\n        \"ILS\": 3.24,\\n        \"IMP\": 0.737,\\n        \"INR\": 74.66,\\n        \"IQD\": 1464.57,\\n        \"IRR\": 41968.38,\\n        \"ISK\": 124.83,\\n        \"JEP\": 0.737,\\n        \"JMD\": 155.77,\\n        \"JOD\": 0.709,\\n        \"JPY\": 115.01,\\n        \"KES\": 113.99,\\n        \"KGS\": 84.68,\\n        \"KHR\": 4079.67,\\n        \"KID\": 1.39,\\n        \"KMF\": 434.07,\\n        \"KRW\": 1192.98,\\n        \"KWD\": 0.3,\\n        \"KYD\": 0.833,\\n        \"KZT\": 434.68,\\n        \"LAK\": 11418.43,\\n        \"LBP\": 1507.5,\\n        \"LKR\": 201.91,\\n        \"LRD\": 153.69,\\n        \"LSL\": 15.08,\\n        \"LYD\": 4.61,\\n        \"MAD\": 9.34,\\n        \"MDL\": 17.92,\\n        \"MGA\": 3037.2,\\n        \"MKD\": 54.41,\\n        \"MMK\": 1777.19,\\n        \"MNT\": 2884.31,\\n        \"MOP\": 8.04,\\n        \"MRU\": 36.47,\\n        \"MUR\": 43.85,\\n        \"MVR\": 15.39,\\n        \"MWK\": 820.36,\\n        \"MXN\": 20.31,\\n        \"MYR\": 4.18,\\n        \"MZN\": 63.82,\\n        \"NAD\": 15.08,\\n        \"NGN\": 417.15,\\n        \"NIO\": 35.56,\\n        \"NOK\": 8.9,\\n        \"NPR\": 119.46,\\n        \"NZD\": 1.48,\\n        \"OMR\": 0.384,\\n        \"PAB\": 1,\\n        \"PEN\": 3.75,\\n        \"PGK\": 3.5,\\n        \"PHP\": 51.37,\\n        \"PKR\": 176.07,\\n        \"PLN\": 4.01,\\n        \"PYG\": 6838.44,\\n        \"QAR\": 3.64,\\n        \"RON\": 4.36,\\n        \"RSD\": 103.68,\\n        \"RUB\": 79.35,\\n        \"RWF\": 1048.41,\\n        \"SAR\": 3.75,\\n        \"SBD\": 8.03,\\n        \"SCR\": 13.08,\\n        \"SDG\": 447.02,\\n        \"SEK\": 9.35,\\n        \"SGD\": 1.35,\\n        \"SHP\": 0.737,\\n        \"SLL\": 11537.25,\\n        \"SOS\": 580.5,\\n        \"SRD\": 20.53,\\n        \"SSP\": 430.31,\\n        \"STN\": 21.62,\\n        \"SYP\": 2512.39,\\n        \"SZL\": 15.08,\\n        \"THB\": 32.42,\\n        \"TJS\": 11.27,\\n        \"TMT\": 3.5,\\n        \"TND\": 2.81,\\n        \"TOP\": 2.25,\\n        \"TRY\": 13.79,\\n        \"TTD\": 6.76,\\n        \"TVD\": 1.39,\\n        \"TWD\": 27.84,\\n        \"TZS\": 2305.93,\\n        \"UAH\": 28.88,\\n        \"UGX\": 3519.9,\\n        \"UYU\": 43.04,\\n        \"UZS\": 10873.4,\\n        \"VES\": 4.37,\\n        \"VND\": 22748.42,\\n        \"VUV\": 112.49,\\n        \"WST\": 2.58,\\n        \"XAF\": 578.77,\\n        \"XCD\": 2.7,\\n        \"XDR\": 0.714,\\n        \"XOF\": 578.77,\\n        \"XPF\": 105.29,\\n        \"YER\": 249.82,\\n        \"ZAR\": 15.08,\\n        \"ZMW\": 17.59,\\n        \"ZWL\": 120.51\\n    }\\n}'"
      ]
     },
     "execution_count": 10,
     "metadata": {},
     "output_type": "execute_result"
    }
   ],
   "source": [
    "#We can set an indentation for nested elements and choose the amount of white space with the indent parameter\n",
    "# Here we used an indentation of 4\n",
    "\n",
    "json.dumps(response.json(), indent = 4)"
   ]
  },
  {
   "cell_type": "code",
   "execution_count": 11,
   "id": "c29fe46b",
   "metadata": {},
   "outputs": [
    {
     "name": "stdout",
     "output_type": "stream",
     "text": [
      "{\n",
      "    \"result\": \"success\",\n",
      "    \"provider\": \"https://www.exchangerate-api.com\",\n",
      "    \"documentation\": \"https://www.exchangerate-api.com/docs/free\",\n",
      "    \"terms_of_use\": \"https://www.exchangerate-api.com/terms\",\n",
      "    \"time_last_update_unix\": 1645574552,\n",
      "    \"time_last_update_utc\": \"Wed, 23 Feb 2022 00:02:32 +0000\",\n",
      "    \"time_next_update_unix\": 1645662702,\n",
      "    \"time_next_update_utc\": \"Thu, 24 Feb 2022 00:31:42 +0000\",\n",
      "    \"time_eol_unix\": 0,\n",
      "    \"base_code\": \"USD\",\n",
      "    \"rates\": {\n",
      "        \"USD\": 1,\n",
      "        \"AED\": 3.67,\n",
      "        \"AFN\": 92,\n",
      "        \"ALL\": 106.85,\n",
      "        \"AMD\": 478.45,\n",
      "        \"ANG\": 1.79,\n",
      "        \"AOA\": 503.88,\n",
      "        \"ARS\": 106.98,\n",
      "        \"AUD\": 1.39,\n",
      "        \"AWG\": 1.79,\n",
      "        \"AZN\": 1.7,\n",
      "        \"BAM\": 1.73,\n",
      "        \"BBD\": 2,\n",
      "        \"BDT\": 85.99,\n",
      "        \"BGN\": 1.73,\n",
      "        \"BHD\": 0.376,\n",
      "        \"BIF\": 1998.47,\n",
      "        \"BMD\": 1,\n",
      "        \"BND\": 1.35,\n",
      "        \"BOB\": 6.87,\n",
      "        \"BRL\": 5.08,\n",
      "        \"BSD\": 1,\n",
      "        \"BTN\": 74.66,\n",
      "        \"BWP\": 11.53,\n",
      "        \"BYN\": 2.62,\n",
      "        \"BZD\": 2,\n",
      "        \"CAD\": 1.27,\n",
      "        \"CDF\": 2016.16,\n",
      "        \"CHF\": 0.92,\n",
      "        \"CLP\": 798.16,\n",
      "        \"CNY\": 6.33,\n",
      "        \"COP\": 3953.7,\n",
      "        \"CRC\": 639.36,\n",
      "        \"CUP\": 24,\n",
      "        \"CVE\": 97.29,\n",
      "        \"CZK\": 21.67,\n",
      "        \"DJF\": 177.72,\n",
      "        \"DKK\": 6.58,\n",
      "        \"DOP\": 56.49,\n",
      "        \"DZD\": 140.63,\n",
      "        \"EGP\": 15.7,\n",
      "        \"ERN\": 15,\n",
      "        \"ETB\": 50.8,\n",
      "        \"EUR\": 0.882,\n",
      "        \"FJD\": 2.12,\n",
      "        \"FKP\": 0.737,\n",
      "        \"FOK\": 6.58,\n",
      "        \"GBP\": 0.737,\n",
      "        \"GEL\": 3,\n",
      "        \"GGP\": 0.737,\n",
      "        \"GHS\": 7.15,\n",
      "        \"GIP\": 0.737,\n",
      "        \"GMD\": 53.48,\n",
      "        \"GNF\": 9034.88,\n",
      "        \"GTQ\": 7.7,\n",
      "        \"GYD\": 209.94,\n",
      "        \"HKD\": 7.8,\n",
      "        \"HNL\": 24.55,\n",
      "        \"HRK\": 6.65,\n",
      "        \"HTG\": 102.55,\n",
      "        \"HUF\": 315.1,\n",
      "        \"IDR\": 14271.69,\n",
      "        \"ILS\": 3.24,\n",
      "        \"IMP\": 0.737,\n",
      "        \"INR\": 74.66,\n",
      "        \"IQD\": 1464.57,\n",
      "        \"IRR\": 41968.38,\n",
      "        \"ISK\": 124.83,\n",
      "        \"JEP\": 0.737,\n",
      "        \"JMD\": 155.77,\n",
      "        \"JOD\": 0.709,\n",
      "        \"JPY\": 115.01,\n",
      "        \"KES\": 113.99,\n",
      "        \"KGS\": 84.68,\n",
      "        \"KHR\": 4079.67,\n",
      "        \"KID\": 1.39,\n",
      "        \"KMF\": 434.07,\n",
      "        \"KRW\": 1192.98,\n",
      "        \"KWD\": 0.3,\n",
      "        \"KYD\": 0.833,\n",
      "        \"KZT\": 434.68,\n",
      "        \"LAK\": 11418.43,\n",
      "        \"LBP\": 1507.5,\n",
      "        \"LKR\": 201.91,\n",
      "        \"LRD\": 153.69,\n",
      "        \"LSL\": 15.08,\n",
      "        \"LYD\": 4.61,\n",
      "        \"MAD\": 9.34,\n",
      "        \"MDL\": 17.92,\n",
      "        \"MGA\": 3037.2,\n",
      "        \"MKD\": 54.41,\n",
      "        \"MMK\": 1777.19,\n",
      "        \"MNT\": 2884.31,\n",
      "        \"MOP\": 8.04,\n",
      "        \"MRU\": 36.47,\n",
      "        \"MUR\": 43.85,\n",
      "        \"MVR\": 15.39,\n",
      "        \"MWK\": 820.36,\n",
      "        \"MXN\": 20.31,\n",
      "        \"MYR\": 4.18,\n",
      "        \"MZN\": 63.82,\n",
      "        \"NAD\": 15.08,\n",
      "        \"NGN\": 417.15,\n",
      "        \"NIO\": 35.56,\n",
      "        \"NOK\": 8.9,\n",
      "        \"NPR\": 119.46,\n",
      "        \"NZD\": 1.48,\n",
      "        \"OMR\": 0.384,\n",
      "        \"PAB\": 1,\n",
      "        \"PEN\": 3.75,\n",
      "        \"PGK\": 3.5,\n",
      "        \"PHP\": 51.37,\n",
      "        \"PKR\": 176.07,\n",
      "        \"PLN\": 4.01,\n",
      "        \"PYG\": 6838.44,\n",
      "        \"QAR\": 3.64,\n",
      "        \"RON\": 4.36,\n",
      "        \"RSD\": 103.68,\n",
      "        \"RUB\": 79.35,\n",
      "        \"RWF\": 1048.41,\n",
      "        \"SAR\": 3.75,\n",
      "        \"SBD\": 8.03,\n",
      "        \"SCR\": 13.08,\n",
      "        \"SDG\": 447.02,\n",
      "        \"SEK\": 9.35,\n",
      "        \"SGD\": 1.35,\n",
      "        \"SHP\": 0.737,\n",
      "        \"SLL\": 11537.25,\n",
      "        \"SOS\": 580.5,\n",
      "        \"SRD\": 20.53,\n",
      "        \"SSP\": 430.31,\n",
      "        \"STN\": 21.62,\n",
      "        \"SYP\": 2512.39,\n",
      "        \"SZL\": 15.08,\n",
      "        \"THB\": 32.42,\n",
      "        \"TJS\": 11.27,\n",
      "        \"TMT\": 3.5,\n",
      "        \"TND\": 2.81,\n",
      "        \"TOP\": 2.25,\n",
      "        \"TRY\": 13.79,\n",
      "        \"TTD\": 6.76,\n",
      "        \"TVD\": 1.39,\n",
      "        \"TWD\": 27.84,\n",
      "        \"TZS\": 2305.93,\n",
      "        \"UAH\": 28.88,\n",
      "        \"UGX\": 3519.9,\n",
      "        \"UYU\": 43.04,\n",
      "        \"UZS\": 10873.4,\n",
      "        \"VES\": 4.37,\n",
      "        \"VND\": 22748.42,\n",
      "        \"VUV\": 112.49,\n",
      "        \"WST\": 2.58,\n",
      "        \"XAF\": 578.77,\n",
      "        \"XCD\": 2.7,\n",
      "        \"XDR\": 0.714,\n",
      "        \"XOF\": 578.77,\n",
      "        \"XPF\": 105.29,\n",
      "        \"YER\": 249.82,\n",
      "        \"ZAR\": 15.08,\n",
      "        \"ZMW\": 17.59,\n",
      "        \"ZWL\": 120.51\n",
      "    }\n",
      "}\n"
     ]
    }
   ],
   "source": [
    "# In order to manifest it, we need to print this string\n",
    "\n",
    "print(json.dumps(response.json(), indent = 4))"
   ]
  },
  {
   "cell_type": "code",
   "execution_count": 12,
   "id": "fcf8b18c",
   "metadata": {},
   "outputs": [
    {
     "data": {
      "text/plain": [
       "dict_keys(['result', 'provider', 'documentation', 'terms_of_use', 'time_last_update_unix', 'time_last_update_utc', 'time_next_update_unix', 'time_next_update_utc', 'time_eol_unix', 'base_code', 'rates'])"
      ]
     },
     "execution_count": 12,
     "metadata": {},
     "output_type": "execute_result"
    }
   ],
   "source": [
    "# We can take a look and inspoect the contents of this JSON\n",
    "# It contains 12 keys as explained by the JSON method\n",
    "\n",
    "response.json().keys()"
   ]
  },
  {
   "cell_type": "markdown",
   "id": "615dcd64",
   "metadata": {},
   "source": [
    "**So far, we have managed to connect to the API, extract the response data and understand its content**"
   ]
  }
 ],
 "metadata": {
  "kernelspec": {
   "display_name": "Python 3 (ipykernel)",
   "language": "python",
   "name": "python3"
  },
  "language_info": {
   "codemirror_mode": {
    "name": "ipython",
    "version": 3
   },
   "file_extension": ".py",
   "mimetype": "text/x-python",
   "name": "python",
   "nbconvert_exporter": "python",
   "pygments_lexer": "ipython3",
   "version": "3.9.7"
  }
 },
 "nbformat": 4,
 "nbformat_minor": 5
}
